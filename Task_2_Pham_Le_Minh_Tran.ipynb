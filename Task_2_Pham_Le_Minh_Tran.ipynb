{
  "nbformat": 4,
  "nbformat_minor": 0,
  "metadata": {
    "colab": {
      "name": "Task 2- Pham Le Minh Tran.ipynb",
      "provenance": [],
      "collapsed_sections": [],
      "authorship_tag": "ABX9TyOFwuVEIYnC7U2zvW1wpzdB",
      "include_colab_link": true
    },
    "kernelspec": {
      "name": "python3",
      "display_name": "Python 3"
    },
    "language_info": {
      "name": "python"
    }
  },
  "cells": [
    {
      "cell_type": "markdown",
      "metadata": {
        "id": "view-in-github",
        "colab_type": "text"
      },
      "source": [
        "<a href=\"https://colab.research.google.com/github/TranPham-96/datacracy-atom--Pham-Le-Minh-Tran-/blob/main/Task_2_Pham_Le_Minh_Tran.ipynb\" target=\"_parent\"><img src=\"https://colab.research.google.com/assets/colab-badge.svg\" alt=\"Open In Colab\"/></a>"
      ]
    },
    {
      "cell_type": "code",
      "metadata": {
        "colab": {
          "base_uri": "https://localhost:8080/"
        },
        "id": "4h5ruMsbxZPf",
        "outputId": "b2bfaa64-8944-4eb7-9a23-cdab05d716e7"
      },
      "source": [
        "# This program says hello and asks for my name.\n",
        "\n",
        "print('Hello, world!')\n",
        "print('What is your name?')\n",
        "myName=input()\n",
        "print('It is good to meet you, ' + myName)\n",
        "print('The length of your name is: ')\n",
        "print(len(myName))\n",
        "print('What is your age?')\n",
        "myAge = input()\n",
        "print('You will be '+ str(int(myAge) +1)+ ' in a year.')"
      ],
      "execution_count": 2,
      "outputs": [
        {
          "output_type": "stream",
          "text": [
            "Hello, world!\n",
            "What is your name?\n",
            "Pham Le Minh Tran\n",
            "It is good to meet you, Pham Le Minh Tran\n",
            "The length of your name is: \n",
            "17\n",
            "What is your age?\n",
            "24\n",
            "You will be 25 in a year.\n"
          ],
          "name": "stdout"
        }
      ]
    },
    {
      "cell_type": "code",
      "metadata": {
        "id": "k952FNfb16rx"
      },
      "source": [
        "import random, sys\n",
        "print('ROCK, PAPER, SCISSOR')\n",
        "\n",
        "wins = 0\n",
        "losses = 0\n",
        "ties = 0\n",
        "\n",
        "while True: #The main game loop\n",
        "   print('%s Wins, %s Losses, %s Ties' % (wins, losses, ties))\n",
        "while True: \n",
        "    print('Enter your move: (r)ock (p)aper (s)cissors or (q)uit')\n",
        "    playerMove = input()\n",
        "    if playerMove == \"q\":\n",
        "      print ('You are quite the game')\n",
        "      sys.exit()  # Quite the program\n",
        "    if playerMove == \"r\" or playerMove == \"p\" or playerMove == \"s\":\n",
        "      break # Break out of input loop\n",
        "    print('Type one of r, p, s, or q.')\n",
        "\n",
        "# Display what player chose\n",
        "if playerMove == 'r':\n",
        "      print('ROCK versus...')\n",
        "elif playerMove == 'p':\n",
        "      print('PAPER versus...')\n",
        "elif playerMove == 's':\n",
        "      print('SCISSORS versus...')\n",
        "\n",
        "# Display what computer chose\n",
        "randomNum = random.randint(1, 3)\n",
        "if randomNum == 1:\n",
        "    computerMove = 'r'\n",
        "    print('Computer Move: ROCK')\n",
        "elif randomNum == 2:\n",
        "      computerMove = 'p'\n",
        "      print('Computer Move: PAPER')\n",
        "elif randomNum == 3:\n",
        "      computerMove = 's'\n",
        "      print('Computer Move: SCISSORS')\n",
        "\n",
        "  # Display and record\n",
        "if playerMove == computerMove:\n",
        "      print ('It is a tie!')\n",
        "      ties = ties + 1\n",
        "elif playerMove == 'r' and computerMove == 's':\n",
        "      print ('You win!')\n",
        "      wins = wins + 1\n",
        "elif playerMove == 's' and computerMove == 'p':\n",
        "      print ('You win!')\n",
        "      wins = wins + 1\n",
        "elif playerMove == 'p' and computerMove == 'r':\n",
        "      print ('You win!')\n",
        "      wins = wins + 1\n",
        "elif playerMove == 'r' and computerMove == 'p':\n",
        "      print ('You lose!')\n",
        "      losses = loses + 1\n",
        "elif playerMove == 'p' and computerMove == 's':\n",
        "      print ('You lose!')\n",
        "      losses = loses + 1\n",
        "elif playerMove == 's' and computerMove == 'r':\n",
        "      print ('You lose!')\n",
        "      losses = loses + 1\n",
        "  "
      ],
      "execution_count": null,
      "outputs": []
    }
  ]
}